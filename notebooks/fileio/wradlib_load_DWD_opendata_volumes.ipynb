{
 "cells": [
  {
   "cell_type": "markdown",
   "metadata": {
    "nbsphinx": "hidden"
   },
   "source": [
    "This notebook is part of the $\\omega radlib$ documentation: https://docs.wradlib.org.\n",
    "\n",
    "Copyright (c) $\\omega radlib$ developers.\n",
    "Distributed under the MIT License. See LICENSE.txt for more info."
   ]
  },
  {
   "cell_type": "markdown",
   "metadata": {},
   "source": [
    "# Load ODIM_H5 Volume data from German Weather Service\n",
    "\n",
    "In this example, we obtain and read the latest available volumetric radar data from German Weather Service available at [opendata.dwd.de](https://opendata.dwd.de). Finally we do some plotting.\n",
    "\n",
    "This retrieves the 10 sweeps (moments DBZH and VRADH) of the DWD volume scan of a distinct radar. This amounts to 20 data files which are combined into one volumetric Cf/Radial2 like xarray powered structure.\n",
    "\n",
    "Exports to singel file Odim_H5 and Cf/Radial2 format are shown at the end of this tutorial."
   ]
  },
  {
   "cell_type": "code",
   "execution_count": null,
   "metadata": {},
   "outputs": [],
   "source": [
    "import wradlib as wrl\n",
    "import warnings\n",
    "warnings.filterwarnings('ignore')\n",
    "import matplotlib.pyplot as pl\n",
    "import numpy as np\n",
    "import xarray as xr\n",
    "try:\n",
    "    get_ipython().magic(\"matplotlib inline\")\n",
    "except:\n",
    "    pl.ion()\n",
    "from wradlib.io.xarray import CfRadial, OdimH5"
   ]
  },
  {
   "cell_type": "code",
   "execution_count": null,
   "metadata": {},
   "outputs": [],
   "source": [
    "import urllib\n",
    "import os\n",
    "import io\n",
    "import glob"
   ]
  },
  {
   "cell_type": "markdown",
   "metadata": {},
   "source": [
    "## Download Current Filelist from server\n",
    "\n",
    "Import it into pandas DataFrame, export to list and sort it descending in time."
   ]
  },
  {
   "cell_type": "markdown",
   "metadata": {},
   "source": [
    "### Helper Class to parse response"
   ]
  },
  {
   "cell_type": "code",
   "execution_count": null,
   "metadata": {},
   "outputs": [],
   "source": [
    "from html.parser import HTMLParser\n",
    "\n",
    "class DWDHTMLParser(HTMLParser):\n",
    "    def handle_starttag(self, tag, attrs):\n",
    "        if tag != 'a':\n",
    "            return\n",
    "        self.links.append(attrs[0][1])\n",
    "\n",
    "parser = DWDHTMLParser()"
   ]
  },
  {
   "cell_type": "code",
   "execution_count": null,
   "metadata": {},
   "outputs": [],
   "source": [
    "radar = 'ESS'\n",
    "DBZH = 'sweep_vol_z'\n",
    "VRADH = 'sweep_vol_v'\n",
    "\n",
    "opendata_url1 = (f\"https://opendata.dwd.de/weather/radar/sites/{DBZH}/{radar.lower()}/hdf5/\")\n",
    "with urllib.request.urlopen(opendata_url1) as url_request:\n",
    "    response = url_request.read().decode(\"utf-8\")\n",
    "\n",
    "parser.links = []\n",
    "parser.feed(response)\n",
    "filelist1 = parser.links[1:]\n",
    "\n",
    "filelist1.sort(key=lambda x: x.split('-')[2])\n",
    "filelist1.reverse()\n",
    "\n",
    "opendata_url2 = (f\"https://opendata.dwd.de/weather/radar/sites/{VRADH}/{radar.lower()}/hdf5/\")\n",
    "with urllib.request.urlopen(opendata_url2) as url_request:\n",
    "    response = url_request.read().decode(\"utf-8\")\n",
    "\n",
    "parser.links = []\n",
    "parser.feed(response)\n",
    "filelist2 = parser.links[1:]\n",
    "\n",
    "filelist2.sort(key=lambda x: x.split('-')[2])\n",
    "filelist2.reverse()"
   ]
  },
  {
   "cell_type": "code",
   "execution_count": null,
   "metadata": {
    "scrolled": false
   },
   "outputs": [],
   "source": [
    "for f in filelist1[:10]:\n",
    "    print(f)"
   ]
  },
  {
   "cell_type": "code",
   "execution_count": null,
   "metadata": {},
   "outputs": [],
   "source": [
    "for f in filelist2[:10]:\n",
    "    print(f)"
   ]
  },
  {
   "cell_type": "markdown",
   "metadata": {},
   "source": [
    "## Clean up local folder"
   ]
  },
  {
   "cell_type": "code",
   "execution_count": null,
   "metadata": {},
   "outputs": [],
   "source": [
    "flist = glob.glob('ras07*')\n",
    "for f in flist:\n",
    "    os.remove(f)"
   ]
  },
  {
   "cell_type": "markdown",
   "metadata": {},
   "source": [
    "## Download latest volume to current directory"
   ]
  },
  {
   "cell_type": "code",
   "execution_count": null,
   "metadata": {},
   "outputs": [],
   "source": [
    "for f in filelist1[:10]:\n",
    "    urllib.request.urlretrieve(os.path.join(opendata_url1, f), f)\n",
    "    \n",
    "for f in filelist2[:10]:\n",
    "    urllib.request.urlretrieve(os.path.join(opendata_url2, f), f)"
   ]
  },
  {
   "cell_type": "markdown",
   "metadata": {},
   "source": [
    "## Read the files into xarray powered structure"
   ]
  },
  {
   "cell_type": "code",
   "execution_count": null,
   "metadata": {},
   "outputs": [],
   "source": [
    "flist = glob.glob('ras07*')\n",
    "vol = wrl.io.OdimH5(flist, dim0='azimuth', georef=True)"
   ]
  },
  {
   "cell_type": "markdown",
   "metadata": {},
   "source": [
    "## Inspect structure\n",
    "### Root Group"
   ]
  },
  {
   "cell_type": "code",
   "execution_count": null,
   "metadata": {},
   "outputs": [],
   "source": [
    "vol.root"
   ]
  },
  {
   "cell_type": "code",
   "execution_count": null,
   "metadata": {},
   "outputs": [],
   "source": [
    "vol.root.sweep_fixed_angle"
   ]
  },
  {
   "cell_type": "markdown",
   "metadata": {},
   "source": [
    "### Sweep Groups"
   ]
  },
  {
   "cell_type": "code",
   "execution_count": null,
   "metadata": {},
   "outputs": [],
   "source": [
    "list(vol)"
   ]
  },
  {
   "cell_type": "code",
   "execution_count": null,
   "metadata": {},
   "outputs": [],
   "source": [
    "vol['sweep_1']"
   ]
  },
  {
   "cell_type": "markdown",
   "metadata": {},
   "source": [
    "## plot sweeps\n",
    "### DBZH"
   ]
  },
  {
   "cell_type": "code",
   "execution_count": null,
   "metadata": {},
   "outputs": [],
   "source": [
    "fig = pl.figure(figsize=(20, 30))\n",
    "import matplotlib.gridspec as gridspec\n",
    "gs = gridspec.GridSpec(4, 3, wspace=0.4, hspace=0.4)\n",
    "for i, swp in enumerate(vol.values()):\n",
    "    swp.DBZH.wradlib.plot(ax=gs[i], fig=fig)\n",
    "    ax = pl.gca()\n",
    "    ax.set_title(vol.root.sweep_fixed_angle[i])"
   ]
  },
  {
   "cell_type": "markdown",
   "metadata": {},
   "source": [
    "### VRADH"
   ]
  },
  {
   "cell_type": "code",
   "execution_count": null,
   "metadata": {},
   "outputs": [],
   "source": [
    "fig = pl.figure(figsize=(20, 30))\n",
    "import matplotlib.gridspec as gridspec\n",
    "gs = gridspec.GridSpec(4, 3, wspace=0.4, hspace=0.4)\n",
    "for i, swp in enumerate(vol.values()):\n",
    "    swp.VRADH.wradlib.plot(ax=gs[i], fig=fig)\n",
    "    ax = pl.gca()\n",
    "    ax.set_title(vol.root.sweep_fixed_angle[i])"
   ]
  },
  {
   "cell_type": "markdown",
   "metadata": {},
   "source": [
    "### Plot single sweep using cartopy"
   ]
  },
  {
   "cell_type": "code",
   "execution_count": null,
   "metadata": {},
   "outputs": [],
   "source": [
    "import cartopy\n",
    "import cartopy.crs as ccrs\n",
    "import cartopy.feature as cfeature\n",
    "\n",
    "map_trans = ccrs.AzimuthalEquidistant(central_latitude=vol['sweep_10'].latitude.values, \n",
    "                                      central_longitude=vol['sweep_10'].longitude.values)"
   ]
  },
  {
   "cell_type": "code",
   "execution_count": null,
   "metadata": {},
   "outputs": [],
   "source": [
    "map_proj = ccrs.AzimuthalEquidistant(central_latitude=vol['sweep_10'].latitude.values, \n",
    "                                      central_longitude=vol['sweep_10'].longitude.values)\n",
    "pm = vol['sweep_10'].DBZH.wradlib.plot_ppi(proj=map_proj)\n",
    "ax = pl.gca()\n",
    "ax.gridlines(crs=map_proj)\n",
    "print(ax)"
   ]
  },
  {
   "cell_type": "code",
   "execution_count": null,
   "metadata": {},
   "outputs": [],
   "source": [
    "map_proj = ccrs.Mercator(central_longitude=vol['sweep_10'].longitude.values)\n",
    "fig = pl.figure(figsize=(10,8))\n",
    "ax = fig.add_subplot(111, projection=map_proj)\n",
    "pm = vol['sweep_10'].DBZH.wradlib.plot_ppi(ax=ax)\n",
    "ax.gridlines(draw_labels=True)"
   ]
  },
  {
   "cell_type": "code",
   "execution_count": null,
   "metadata": {},
   "outputs": [],
   "source": [
    "fig = pl.figure(figsize=(10, 8))\n",
    "proj=ccrs.AzimuthalEquidistant(central_latitude=vol['sweep_10'].latitude.values, \n",
    "                               central_longitude=vol['sweep_10'].longitude.values)\n",
    "ax = fig.add_subplot(111, projection=proj)\n",
    "pm = vol['sweep_10'].DBZH.wradlib.plot_ppi(ax=ax)\n",
    "ax.gridlines()"
   ]
  },
  {
   "cell_type": "markdown",
   "metadata": {},
   "source": [
    "### Inspect radar moments\n",
    "\n",
    "The dataarrays can be accessed by key or by attribute. Each dataarray has the datasets dimensions and coordinates of it's parent dataset. There are attributes connected which are defined by Cf/Radial and/or ODIM_H5 standard."
   ]
  },
  {
   "cell_type": "code",
   "execution_count": null,
   "metadata": {},
   "outputs": [],
   "source": [
    "vol['sweep_10'].DBZH"
   ]
  },
  {
   "cell_type": "code",
   "execution_count": null,
   "metadata": {},
   "outputs": [],
   "source": [
    "vol['sweep_10'].sweep_mode"
   ]
  },
  {
   "cell_type": "code",
   "execution_count": null,
   "metadata": {},
   "outputs": [],
   "source": [
    "vol.root"
   ]
  },
  {
   "cell_type": "code",
   "execution_count": null,
   "metadata": {},
   "outputs": [],
   "source": [
    "#vol.root = vol.root.assign(longitude=vol.root.longitude[0])\n",
    "#vol.root = vol.root.assign(latitude=vol.root.latitude[0])\n",
    "#vol.root = vol.root.assign(altitude=vol.root.altitude[0])"
   ]
  },
  {
   "cell_type": "markdown",
   "metadata": {},
   "source": [
    "## Export to OdimH5\n",
    "\n",
    "This exports the radar volume including all moments into one ODIM_H5 compliant data file."
   ]
  },
  {
   "cell_type": "code",
   "execution_count": null,
   "metadata": {},
   "outputs": [],
   "source": [
    "vol.to_odim('testodim.h5')"
   ]
  },
  {
   "cell_type": "markdown",
   "metadata": {},
   "source": [
    "## Export to Cf/Radial2\n",
    "\n",
    "This exports the radar volume including all moments into one Cf/Radial2 compliant data file."
   ]
  },
  {
   "cell_type": "code",
   "execution_count": null,
   "metadata": {},
   "outputs": [],
   "source": [
    "vol.to_cfradial2('testcfradial2.nc')"
   ]
  },
  {
   "cell_type": "markdown",
   "metadata": {},
   "source": [
    "## Import again and check equality\n",
    "\n",
    "Small time differences are possible so drop times before comparison"
   ]
  },
  {
   "cell_type": "code",
   "execution_count": null,
   "metadata": {},
   "outputs": [],
   "source": [
    "try:\n",
    "    vol1 = OdimH5('testodim.h5', georef=True)\n",
    "    vol2 = CfRadial('testcfradial2.nc', georef=True)\n",
    "    xr.testing.assert_equal(vol1.root, vol2.root)\n",
    "    xr.testing.assert_equal(vol1['sweep_1'].drop('time'), vol2['sweep_1'].drop('time'))\n",
    "except:\n",
    "    pass"
   ]
  }
 ],
 "metadata": {
  "kernelspec": {
   "display_name": "Python 3",
   "language": "python",
   "name": "python3"
  },
  "language_info": {
   "codemirror_mode": {
    "name": "ipython",
    "version": 3
   },
   "file_extension": ".py",
   "mimetype": "text/x-python",
   "name": "python",
   "nbconvert_exporter": "python",
   "pygments_lexer": "ipython3",
   "version": "3.7.3"
  }
 },
 "nbformat": 4,
 "nbformat_minor": 2
}
